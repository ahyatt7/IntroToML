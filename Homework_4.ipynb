{
  "nbformat": 4,
  "nbformat_minor": 0,
  "metadata": {
    "colab": {
      "provenance": []
    },
    "kernelspec": {
      "name": "python3",
      "display_name": "Python 3"
    },
    "language_info": {
      "name": "python"
    }
  },
  "cells": [
    {
      "cell_type": "markdown",
      "source": [
        "Anthony Hyatt\n",
        "\n",
        "801115143\n",
        "\n",
        "4/16/2023\n",
        "\n"
      ],
      "metadata": {
        "id": "aHnJr_-5U-sg"
      }
    },
    {
      "cell_type": "code",
      "execution_count": 1,
      "metadata": {
        "id": "bBYuAWmIQ1jw"
      },
      "outputs": [],
      "source": [
        "import numpy as np\n",
        "import pandas as pd\n",
        "import seaborn as sns\n",
        "from scipy import stats\n",
        "from sklearn import metrics\n",
        "from sklearn.svm import SVC\n",
        "from sklearn.svm import SVR\n",
        "import matplotlib.pyplot as plt\n",
        "from sklearn.decomposition import PCA\n",
        "from sklearn.naive_bayes import GaussianNB\n",
        "from sklearn.linear_model import LogisticRegression\n",
        "from sklearn.model_selection import train_test_split\n",
        "from sklearn.metrics import confusion_matrix, classification_report\n",
        "from sklearn.preprocessing import StandardScaler, MinMaxScaler, Normalizer"
      ]
    },
    {
      "cell_type": "markdown",
      "source": [
        "# **Problem 1**"
      ],
      "metadata": {
        "id": "X4PgNOhFbyzI"
      }
    },
    {
      "cell_type": "markdown",
      "source": [
        "## **SVC Kernel = Linear**"
      ],
      "metadata": {
        "id": "kkFzO8Yxb7PN"
      }
    },
    {
      "cell_type": "code",
      "source": [
        "from sqlalchemy import true\n",
        "from sklearn.datasets import load_breast_cancer\n",
        "breast = load_breast_cancer()\n",
        "\n",
        "accuracy = np.zeros(30)\n",
        "precision = np.zeros(30)\n",
        "recall = np.zeros(30)\n",
        "avg = np.zeros(30)\n",
        "bestKLinear = np.zeros(4)\n",
        "\n",
        "for K in range(1, 31):\n",
        "  X = breast.data\n",
        "  Y = breast.target\n",
        "\n",
        "  X_train, X_test, Y_train, Y_test = train_test_split(X, Y, test_size=0.20, random_state=7)\n",
        "\n",
        "  sc_X = StandardScaler()\n",
        "  X_train = sc_X.fit_transform(X_train)\n",
        "  X_test = sc_X.transform(X_test)\n",
        "\n",
        "  scaler = MinMaxScaler()\n",
        "  X_train = scaler.fit_transform(X_train)\n",
        "  X_test = scaler.transform(X_test)\n",
        "\n",
        "  pca = PCA(n_components=K)\n",
        "  X_train = pca.fit_transform(X_train)\n",
        "  X_test = pca.transform(X_test)\n",
        "\n",
        "  model = SVC(kernel='linear', random_state=7)\n",
        "\n",
        "  model.fit(X_train, Y_train)\n",
        "\n",
        "  expected = Y_test\n",
        "  predicted = model.predict(X_test)\n",
        "\n",
        "  accuracy[K-1] = metrics.accuracy_score(expected, predicted)*100.0\n",
        "  precision[K-1] = metrics.precision_score(expected, predicted)*100.0\n",
        "  recall[K-1] = metrics.recall_score(expected, predicted)*100.0\n",
        "  avg[K-1] = (accuracy[K-1] + precision[K-1] + recall[K-1])/3\n",
        "\n",
        "  if bestKLinear[1] < avg[K-1]:\n",
        "    bestKLinear[0] = K\n",
        "    bestKLinear[1] = accuracy[K-1]\n",
        "    bestKLinear[2] = precision[K-1]\n",
        "    bestKLinear[3] = recall[K-1]\n",
        "\n",
        "  if (K % 5 == 0):\n",
        "    print(\"K =\", K, \":\")\n",
        "    print(\"Accuracy: %.3f%%\" % accuracy[K-1])\n",
        "    print(\"Precision: %.3f%%\" % precision[K-1])\n",
        "    print(\"Recall: %.3f%%\" % recall[K-1])\n",
        "    print()"
      ],
      "metadata": {
        "colab": {
          "base_uri": "https://localhost:8080/"
        },
        "id": "jt7YU9kfRCIo",
        "outputId": "39d2add1-1580-44c7-d459-fc016d75c5a9"
      },
      "execution_count": 2,
      "outputs": [
        {
          "output_type": "stream",
          "name": "stdout",
          "text": [
            "K = 5 :\n",
            "Accuracy: 96.491%\n",
            "Precision: 94.872%\n",
            "Recall: 100.000%\n",
            "\n",
            "K = 10 :\n",
            "Accuracy: 96.491%\n",
            "Precision: 94.872%\n",
            "Recall: 100.000%\n",
            "\n",
            "K = 15 :\n",
            "Accuracy: 96.491%\n",
            "Precision: 94.872%\n",
            "Recall: 100.000%\n",
            "\n",
            "K = 20 :\n",
            "Accuracy: 96.491%\n",
            "Precision: 94.872%\n",
            "Recall: 100.000%\n",
            "\n",
            "K = 25 :\n",
            "Accuracy: 96.491%\n",
            "Precision: 94.872%\n",
            "Recall: 100.000%\n",
            "\n",
            "K = 30 :\n",
            "Accuracy: 96.491%\n",
            "Precision: 94.872%\n",
            "Recall: 100.000%\n",
            "\n"
          ]
        }
      ]
    },
    {
      "cell_type": "code",
      "source": [
        "print(\"Best performing K value =\", bestKLinear[0], \"with an accuracy of %.3f%%,\" % bestKLinear[1], \n",
        "      \"precision of %.3f%%,\" % bestKLinear[2], \"and recall of %.3f%%,\" % bestKLinear[3])\n",
        "\n",
        "plt.figure()\n",
        "plt.plot(range(1, 31), accuracy)\n",
        "plt.plot(range(1, 31), precision)\n",
        "plt.plot(range(1, 31), recall)\n",
        "plt.grid()\n",
        "plt.legend([\"Accuracy\", \"Precision\", \"Recall\"])\n",
        "plt.title(\"Plots of Accuracy, Precision, and Recall\")\n",
        "plt.xlabel(\"n_features\")\n",
        "plt.ylabel(\"Percentage\")"
      ],
      "metadata": {
        "colab": {
          "base_uri": "https://localhost:8080/",
          "height": 507
        },
        "id": "mh2OV3T1ZNM3",
        "outputId": "61ef5222-d39e-4f59-e3f3-bc4a92d42a1d"
      },
      "execution_count": 3,
      "outputs": [
        {
          "output_type": "stream",
          "name": "stdout",
          "text": [
            "Best performing K value = 9.0 with an accuracy of 97.368%, precision of 96.104%, and recall of 100.000%,\n"
          ]
        },
        {
          "output_type": "execute_result",
          "data": {
            "text/plain": [
              "Text(0, 0.5, 'Percentage')"
            ]
          },
          "metadata": {},
          "execution_count": 3
        },
        {
          "output_type": "display_data",
          "data": {
            "text/plain": [
              "<Figure size 640x480 with 1 Axes>"
            ],
            "image/png": "[encoded data removed]"
          },
          "metadata": {}
        }
      ]
    },
    {
      "cell_type": "markdown",
      "source": [
        "## **SVC Kernel = Poly**"
      ],
      "metadata": {
        "id": "rzzoVCB6dhYB"
      }
    },
    {
      "cell_type": "code",
      "source": [
        "accuracy = np.zeros(30)\n",
        "precision = np.zeros(30)\n",
        "recall = np.zeros(30)\n",
        "avg = np.zeros(30)\n",
        "bestKPoly = np.zeros(4)\n",
        "\n",
        "for K in range(1, 31):\n",
        "  X = breast.data\n",
        "  Y = breast.target\n",
        "\n",
        "  X_train, X_test, Y_train, Y_test = train_test_split(X, Y, test_size=0.20, random_state=7)\n",
        "\n",
        "  sc_X = StandardScaler()\n",
        "  X_train = sc_X.fit_transform(X_train)\n",
        "  X_test = sc_X.transform(X_test)\n",
        "\n",
        "  scaler = MinMaxScaler()\n",
        "  X_train = scaler.fit_transform(X_train)\n",
        "  X_test = scaler.transform(X_test)\n",
        "\n",
        "  pca = PCA(n_components=K)\n",
        "  X_train = pca.fit_transform(X_train)\n",
        "  X_test = pca.transform(X_test)\n",
        "\n",
        "  model = SVC(kernel='poly', random_state=7)\n",
        "\n",
        "  model.fit(X_train, Y_train)\n",
        "\n",
        "  expected = Y_test\n",
        "  predicted = model.predict(X_test)\n",
        "\n",
        "  accuracy[K-1] = metrics.accuracy_score(expected, predicted)*100.0\n",
        "  precision[K-1] = metrics.precision_score(expected, predicted)*100.0\n",
        "  recall[K-1] = metrics.recall_score(expected, predicted)*100.0\n",
        "  avg[K-1] = (accuracy[K-1] + precision[K-1] + recall[K-1])/3\n",
        "\n",
        "  if bestKPoly[1] < avg[K-1]:\n",
        "    bestKPoly[0] = K\n",
        "    bestKPoly[1] = accuracy[K-1]\n",
        "    bestKPoly[2] = precision[K-1]\n",
        "    bestKPoly[3] = recall[K-1]\n",
        "\n",
        "  if (K % 5 == 0):\n",
        "    print(\"K =\", K, \":\")\n",
        "    print(\"Accuracy: %.3f%%\" % accuracy[K-1])\n",
        "    print(\"Precision: %.3f%%\" % precision[K-1])\n",
        "    print(\"Recall: %.3f%%\" % recall[K-1])\n",
        "    print()"
      ],
      "metadata": {
        "colab": {
          "base_uri": "https://localhost:8080/"
        },
        "id": "WSM2NnC1cTTX",
        "outputId": "446a27c3-7e61-4ac2-f8c7-739c901ff5a2"
      },
      "execution_count": 4,
      "outputs": [
        {
          "output_type": "stream",
          "name": "stdout",
          "text": [
            "K = 5 :\n",
            "Accuracy: 92.982%\n",
            "Precision: 90.244%\n",
            "Recall: 100.000%\n",
            "\n",
            "K = 10 :\n",
            "Accuracy: 92.982%\n",
            "Precision: 90.244%\n",
            "Recall: 100.000%\n",
            "\n",
            "K = 15 :\n",
            "Accuracy: 92.105%\n",
            "Precision: 89.157%\n",
            "Recall: 100.000%\n",
            "\n",
            "K = 20 :\n",
            "Accuracy: 92.105%\n",
            "Precision: 89.157%\n",
            "Recall: 100.000%\n",
            "\n",
            "K = 25 :\n",
            "Accuracy: 92.105%\n",
            "Precision: 89.157%\n",
            "Recall: 100.000%\n",
            "\n",
            "K = 30 :\n",
            "Accuracy: 92.105%\n",
            "Precision: 89.157%\n",
            "Recall: 100.000%\n",
            "\n"
          ]
        }
      ]
    },
    {
      "cell_type": "code",
      "source": [
        "print(\"Best performing K value =\", bestKPoly[0], \"with an accuracy of %.3f%%,\" % bestKPoly[1], \n",
        "      \"precision of %.3f%%,\" % bestKPoly[2], \"and recall of %.3f%%,\" % bestKPoly[3])\n",
        "\n",
        "plt.figure()\n",
        "plt.plot(range(1, 31), accuracy)\n",
        "plt.plot(range(1, 31), precision)\n",
        "plt.plot(range(1, 31), recall)\n",
        "plt.grid()\n",
        "plt.legend([\"Accuracy\", \"Precision\", \"Recall\"])\n",
        "plt.title(\"Plots of Accuracy, Precision, and Recall\")\n",
        "plt.xlabel(\"n_features\")\n",
        "plt.ylabel(\"Percentage\")"
      ],
      "metadata": {
        "colab": {
          "base_uri": "https://localhost:8080/",
          "height": 507
        },
        "id": "rvUg-5izcjH4",
        "outputId": "0612bca5-8e84-45f0-9b37-6d89608a1ca0"
      },
      "execution_count": 5,
      "outputs": [
        {
          "output_type": "stream",
          "name": "stdout",
          "text": [
            "Best performing K value = 30.0 with an accuracy of 92.105%, precision of 89.157%, and recall of 100.000%,\n"
          ]
        },
        {
          "output_type": "execute_result",
          "data": {
            "text/plain": [
              "Text(0, 0.5, 'Percentage')"
            ]
          },
          "metadata": {},
          "execution_count": 5
        },
        {
          "output_type": "display_data",
          "data": {
            "text/plain": [
              "<Figure size 640x480 with 1 Axes>"
            ],
            "image/png": "[encoded data removed]"
          },
          "metadata": {}
        }
      ]
    },
    {
      "cell_type": "markdown",
      "source": [
        "## **SVC Kernel = RBF**"
      ],
      "metadata": {
        "id": "gdAxgI97dpb8"
      }
    },
    {
      "cell_type": "code",
      "source": [
        "accuracy = np.zeros(30)\n",
        "precision = np.zeros(30)\n",
        "recall = np.zeros(30)\n",
        "avg = np.zeros(30)\n",
        "bestKRBF = np.zeros(4)\n",
        "\n",
        "for K in range(1, 31):\n",
        "  X = breast.data\n",
        "  Y = breast.target\n",
        "\n",
        "  X_train, X_test, Y_train, Y_test = train_test_split(X, Y, test_size=0.20, random_state=7)\n",
        "\n",
        "  sc_X = StandardScaler()\n",
        "  X_train = sc_X.fit_transform(X_train)\n",
        "  X_test = sc_X.transform(X_test)\n",
        "\n",
        "  scaler = MinMaxScaler()\n",
        "  X_train = scaler.fit_transform(X_train)\n",
        "  X_test = scaler.transform(X_test)\n",
        "\n",
        "  pca = PCA(n_components=K)\n",
        "  X_train = pca.fit_transform(X_train)\n",
        "  X_test = pca.transform(X_test)\n",
        "\n",
        "  model = SVC(kernel='rbf', random_state=7)\n",
        "\n",
        "  model.fit(X_train, Y_train)\n",
        "\n",
        "  expected = Y_test\n",
        "  predicted = model.predict(X_test)\n",
        "\n",
        "  accuracy[K-1] = metrics.accuracy_score(expected, predicted)*100.0\n",
        "  precision[K-1] = metrics.precision_score(expected, predicted)*100.0\n",
        "  recall[K-1] = metrics.recall_score(expected, predicted)*100.0\n",
        "  avg[K-1] = (accuracy[K-1] + precision[K-1] + recall[K-1])/3\n",
        "\n",
        "  if bestKRBF[1] < avg[K-1]:\n",
        "    bestKRBF[0] = K\n",
        "    bestKRBF[1] = accuracy[K-1]\n",
        "    bestKRBF[2] = precision[K-1]\n",
        "    bestKRBF[3] = recall[K-1]\n",
        "\n",
        "  if (K % 5 == 0):\n",
        "    print(\"K =\", K, \":\")\n",
        "    print(\"Accuracy: %.3f%%\" % accuracy[K-1])\n",
        "    print(\"Precision: %.3f%%\" % precision[K-1])\n",
        "    print(\"Recall: %.3f%%\" % recall[K-1])\n",
        "    print()"
      ],
      "metadata": {
        "colab": {
          "base_uri": "https://localhost:8080/"
        },
        "id": "zyaCVvtLduMC",
        "outputId": "183db2b8-e1c1-4842-ea16-a6c2f44656ab"
      },
      "execution_count": 6,
      "outputs": [
        {
          "output_type": "stream",
          "name": "stdout",
          "text": [
            "K = 5 :\n",
            "Accuracy: 98.246%\n",
            "Precision: 97.368%\n",
            "Recall: 100.000%\n",
            "\n",
            "K = 10 :\n",
            "Accuracy: 98.246%\n",
            "Precision: 97.368%\n",
            "Recall: 100.000%\n",
            "\n",
            "K = 15 :\n",
            "Accuracy: 98.246%\n",
            "Precision: 97.368%\n",
            "Recall: 100.000%\n",
            "\n",
            "K = 20 :\n",
            "Accuracy: 98.246%\n",
            "Precision: 97.368%\n",
            "Recall: 100.000%\n",
            "\n",
            "K = 25 :\n",
            "Accuracy: 98.246%\n",
            "Precision: 97.368%\n",
            "Recall: 100.000%\n",
            "\n",
            "K = 30 :\n",
            "Accuracy: 98.246%\n",
            "Precision: 97.368%\n",
            "Recall: 100.000%\n",
            "\n"
          ]
        }
      ]
    },
    {
      "cell_type": "code",
      "source": [
        "print(\"Best performing K value =\", bestKRBF[0], \"with an accuracy of %.3f%%,\" % bestKRBF[1], \n",
        "      \"precision of %.3f%%,\" % bestKRBF[2], \"and recall of %.3f%%,\" % bestKRBF[3])\n",
        "\n",
        "plt.figure()\n",
        "plt.plot(range(1, 31), accuracy)\n",
        "plt.plot(range(1, 31), precision)\n",
        "plt.plot(range(1, 31), recall)\n",
        "plt.grid()\n",
        "plt.legend([\"Accuracy\", \"Precision\", \"Recall\"])\n",
        "plt.title(\"Plots of Accuracy, Precision, and Recall\")\n",
        "plt.xlabel(\"n_features\")\n",
        "plt.ylabel(\"Percentage\")"
      ],
      "metadata": {
        "colab": {
          "base_uri": "https://localhost:8080/",
          "height": 507
        },
        "id": "9GAhvt0IdzPZ",
        "outputId": "b7b4d44a-8610-4116-a5f2-af199db3dc71"
      },
      "execution_count": 7,
      "outputs": [
        {
          "output_type": "stream",
          "name": "stdout",
          "text": [
            "Best performing K value = 30.0 with an accuracy of 98.246%, precision of 97.368%, and recall of 100.000%,\n"
          ]
        },
        {
          "output_type": "execute_result",
          "data": {
            "text/plain": [
              "Text(0, 0.5, 'Percentage')"
            ]
          },
          "metadata": {},
          "execution_count": 7
        },
        {
          "output_type": "display_data",
          "data": {
            "text/plain": [
              "<Figure size 640x480 with 1 Axes>"
            ],
            "image/png": "[encoded data removed]"
          },
          "metadata": {}
        }
      ]
    },
    {
      "cell_type": "markdown",
      "source": [
        "## **SVC Kernel = Sigmoid**"
      ],
      "metadata": {
        "id": "wttkIk12e5kD"
      }
    },
    {
      "cell_type": "code",
      "source": [
        "accuracy = np.zeros(30)\n",
        "precision = np.zeros(30)\n",
        "recall = np.zeros(30)\n",
        "avg = np.zeros(30)\n",
        "bestKSigmoid = np.zeros(4)\n",
        "\n",
        "for K in range(1, 31):\n",
        "  X = breast.data\n",
        "  Y = breast.target\n",
        "\n",
        "  X_train, X_test, Y_train, Y_test = train_test_split(X, Y, test_size=0.20, random_state=7)\n",
        "\n",
        "  sc_X = StandardScaler()\n",
        "  X_train = sc_X.fit_transform(X_train)\n",
        "  X_test = sc_X.transform(X_test)\n",
        "\n",
        "  scaler = MinMaxScaler()\n",
        "  X_train = scaler.fit_transform(X_train)\n",
        "  X_test = scaler.transform(X_test)\n",
        "\n",
        "  pca = PCA(n_components=K)\n",
        "  X_train = pca.fit_transform(X_train)\n",
        "  X_test = pca.transform(X_test)\n",
        "\n",
        "  model = SVC(kernel='sigmoid', random_state=7)\n",
        "\n",
        "  model.fit(X_train, Y_train)\n",
        "\n",
        "  expected = Y_test\n",
        "  predicted = model.predict(X_test)\n",
        "\n",
        "  accuracy[K-1] = metrics.accuracy_score(expected, predicted)*100.0\n",
        "  precision[K-1] = metrics.precision_score(expected, predicted)*100.0\n",
        "  recall[K-1] = metrics.recall_score(expected, predicted)*100.0\n",
        "  avg[K-1] = (accuracy[K-1] + precision[K-1] + recall[K-1])/3\n",
        "\n",
        "  if bestKSigmoid[1] < avg[K-1]:\n",
        "    bestKSigmoid[0] = K\n",
        "    bestKSigmoid[1] = accuracy[K-1]\n",
        "    bestKSigmoid[2] = precision[K-1]\n",
        "    bestKSigmoid[3] = recall[K-1]\n",
        "\n",
        "  if (K % 5 == 0):\n",
        "    print(\"K =\", K, \":\")\n",
        "    print(\"Accuracy: %.3f%%\" % accuracy[K-1])\n",
        "    print(\"Precision: %.3f%%\" % precision[K-1])\n",
        "    print(\"Recall: %.3f%%\" % recall[K-1])\n",
        "    print()"
      ],
      "metadata": {
        "colab": {
          "base_uri": "https://localhost:8080/"
        },
        "id": "cOnSRSZWe9vw",
        "outputId": "10ec5f9c-1f7a-4992-deb6-97f1fd6f2673"
      },
      "execution_count": 8,
      "outputs": [
        {
          "output_type": "stream",
          "name": "stdout",
          "text": [
            "K = 5 :\n",
            "Accuracy: 96.491%\n",
            "Precision: 94.872%\n",
            "Recall: 100.000%\n",
            "\n",
            "K = 10 :\n",
            "Accuracy: 95.614%\n",
            "Precision: 93.671%\n",
            "Recall: 100.000%\n",
            "\n",
            "K = 15 :\n",
            "Accuracy: 94.737%\n",
            "Precision: 93.590%\n",
            "Recall: 98.649%\n",
            "\n",
            "K = 20 :\n",
            "Accuracy: 95.614%\n",
            "Precision: 93.671%\n",
            "Recall: 100.000%\n",
            "\n",
            "K = 25 :\n",
            "Accuracy: 95.614%\n",
            "Precision: 93.671%\n",
            "Recall: 100.000%\n",
            "\n",
            "K = 30 :\n",
            "Accuracy: 95.614%\n",
            "Precision: 93.671%\n",
            "Recall: 100.000%\n",
            "\n"
          ]
        }
      ]
    },
    {
      "cell_type": "code",
      "source": [
        "print(\"Best performing K value =\", bestKSigmoid[0], \"with an accuracy of %.3f%%,\" % bestKSigmoid[1], \n",
        "      \"precision of %.3f%%,\" % bestKSigmoid[2], \"and recall of %.3f%%,\" % bestKSigmoid[3])\n",
        "\n",
        "plt.figure()\n",
        "plt.plot(range(1, 31), accuracy)\n",
        "plt.plot(range(1, 31), precision)\n",
        "plt.plot(range(1, 31), recall)\n",
        "plt.grid()\n",
        "plt.legend([\"Accuracy\", \"Precision\", \"Recall\"])\n",
        "plt.title(\"Plots of Accuracy, Precision, and Recall\")\n",
        "plt.xlabel(\"n_features\")\n",
        "plt.ylabel(\"Percentage\")"
      ],
      "metadata": {
        "colab": {
          "base_uri": "https://localhost:8080/",
          "height": 507
        },
        "id": "8bDPazoZfBMz",
        "outputId": "4046433e-6826-4a39-ffc8-29f06c2fd693"
      },
      "execution_count": 9,
      "outputs": [
        {
          "output_type": "stream",
          "name": "stdout",
          "text": [
            "Best performing K value = 6.0 with an accuracy of 96.491%, precision of 94.872%, and recall of 100.000%,\n"
          ]
        },
        {
          "output_type": "execute_result",
          "data": {
            "text/plain": [
              "Text(0, 0.5, 'Percentage')"
            ]
          },
          "metadata": {},
          "execution_count": 9
        },
        {
          "output_type": "display_data",
          "data": {
            "text/plain": [
              "<Figure size 640x480 with 1 Axes>"
            ],
            "image/png": "[encoded data removed]"
          },
          "metadata": {}
        }
      ]
    },
    {
      "cell_type": "code",
      "source": [
        "avg_linear = sum(bestKLinear[1:]/3)\n",
        "print(\"Linear kernel average score is %.3f%%\" % avg_linear)\n",
        "\n",
        "avg_poly = sum(bestKPoly[1:]/3)\n",
        "print(\"Poly kernel average score is %.3f%%\" % avg_poly)\n",
        "\n",
        "avg_rbf = sum(bestKRBF[1:]/3)\n",
        "print(\"RBF kernel average score is %.3f%%\" % avg_rbf)\n",
        "\n",
        "avg_sigmoid = sum(bestKSigmoid[1:]/3)\n",
        "print(\"Sigmoid kernel average score is %.3f%%\" % avg_sigmoid)"
      ],
      "metadata": {
        "colab": {
          "base_uri": "https://localhost:8080/"
        },
        "id": "HhggFIntfpmV",
        "outputId": "72ab3819-1be2-42e3-ff18-dffe1291ffad"
      },
      "execution_count": 10,
      "outputs": [
        {
          "output_type": "stream",
          "name": "stdout",
          "text": [
            "Linear kernel average score is 97.824%\n",
            "Poly kernel average score is 93.754%\n",
            "RBF kernel average score is 98.538%\n",
            "Sigmoid kernel average score is 97.121%\n"
          ]
        }
      ]
    },
    {
      "cell_type": "markdown",
      "source": [
        "# **Problem 2**"
      ],
      "metadata": {
        "id": "i3XqDMhohKTF"
      }
    },
    {
      "cell_type": "code",
      "source": [
        "from google.colab import drive\n",
        "drive.mount('/content/gdrive')\n",
        "\n",
        "housing = pd.read_csv('/content/gdrive/MyDrive/Spring 2023/Intro to ML/Housing.csv')\n",
        "varlist = ['mainroad', 'guestroom', 'basement', 'hotwaterheating',\n",
        "           'airconditioning', 'prefarea', 'furnishingstatus']\n",
        "\n",
        "def binary_map(x):\n",
        "  return x.map({\"yes\": 1, \"no\": 0, \"furnished\": 2, \"semi-furnished\": 1, \"unfurnished\": 0})\n",
        "\n",
        "housing[varlist] = housing[varlist].apply(binary_map)\n",
        "\n",
        "housing.head()"
      ],
      "metadata": {
        "colab": {
          "base_uri": "https://localhost:8080/",
          "height": 223
        },
        "id": "Tw6QlkI7hN_O",
        "outputId": "194246d7-f1ed-46ea-b9e7-c512053386a7"
      },
      "execution_count": 11,
      "outputs": [
        {
          "output_type": "stream",
          "name": "stdout",
          "text": [
            "Mounted at /content/gdrive\n"
          ]
        },
        {
          "output_type": "execute_result",
          "data": {
            "text/plain": [
              "      price  area  bedrooms  bathrooms  stories  mainroad  guestroom  \\\n",
              "0  13300000  7420         4          2        3         1          0   \n",
              "1  12250000  8960         4          4        4         1          0   \n",
              "2  12250000  9960         3          2        2         1          0   \n",
              "3  12215000  7500         4          2        2         1          0   \n",
              "4  11410000  7420         4          1        2         1          1   \n",
              "\n",
              "   basement  hotwaterheating  airconditioning  parking  prefarea  \\\n",
              "0         0                0                1        2         1   \n",
              "1         0                0                1        3         0   \n",
              "2         1                0                0        2         1   \n",
              "3         1                0                1        3         1   \n",
              "4         1                0                1        2         0   \n",
              "\n",
              "   furnishingstatus  \n",
              "0                 2  \n",
              "1                 2  \n",
              "2                 1  \n",
              "3                 2  \n",
              "4                 2  "
            ],
            "text/html": [
              "\n",
              "  <div id=\"df-ce7e2786-b37f-4f19-aee0-8a02085e744e\">\n",
              "    <div class=\"colab-df-container\">\n",
              "      <div>\n",
              "<style scoped>\n",
              "    .dataframe tbody tr th:only-of-type {\n",
              "        vertical-align: middle;\n",
              "    }\n",
              "\n",
              "    .dataframe tbody tr th {\n",
              "        vertical-align: top;\n",
              "    }\n",
              "\n",
              "    .dataframe thead th {\n",
              "        text-align: right;\n",
              "    }\n",
              "</style>\n",
              "<table border=\"1\" class=\"dataframe\">\n",
              "  <thead>\n",
              "    <tr style=\"text-align: right;\">\n",
              "      <th></th>\n",
              "      <th>price</th>\n",
              "      <th>area</th>\n",
              "      <th>bedrooms</th>\n",
              "      <th>bathrooms</th>\n",
              "      <th>stories</th>\n",
              "      <th>mainroad</th>\n",
              "      <th>guestroom</th>\n",
              "      <th>basement</th>\n",
              "      <th>hotwaterheating</th>\n",
              "      <th>airconditioning</th>\n",
              "      <th>parking</th>\n",
              "      <th>prefarea</th>\n",
              "      <th>furnishingstatus</th>\n",
              "    </tr>\n",
              "  </thead>\n",
              "  <tbody>\n",
              "    <tr>\n",
              "      <th>0</th>\n",
              "      <td>13300000</td>\n",
              "      <td>7420</td>\n",
              "      <td>4</td>\n",
              "      <td>2</td>\n",
              "      <td>3</td>\n",
              "      <td>1</td>\n",
              "      <td>0</td>\n",
              "      <td>0</td>\n",
              "      <td>0</td>\n",
              "      <td>1</td>\n",
              "      <td>2</td>\n",
              "      <td>1</td>\n",
              "      <td>2</td>\n",
              "    </tr>\n",
              "    <tr>\n",
              "      <th>1</th>\n",
              "      <td>12250000</td>\n",
              "      <td>8960</td>\n",
              "      <td>4</td>\n",
              "      <td>4</td>\n",
              "      <td>4</td>\n",
              "      <td>1</td>\n",
              "      <td>0</td>\n",
              "      <td>0</td>\n",
              "      <td>0</td>\n",
              "      <td>1</td>\n",
              "      <td>3</td>\n",
              "      <td>0</td>\n",
              "      <td>2</td>\n",
              "    </tr>\n",
              "    <tr>\n",
              "      <th>2</th>\n",
              "      <td>12250000</td>\n",
              "      <td>9960</td>\n",
              "      <td>3</td>\n",
              "      <td>2</td>\n",
              "      <td>2</td>\n",
              "      <td>1</td>\n",
              "      <td>0</td>\n",
              "      <td>1</td>\n",
              "      <td>0</td>\n",
              "      <td>0</td>\n",
              "      <td>2</td>\n",
              "      <td>1</td>\n",
              "      <td>1</td>\n",
              "    </tr>\n",
              "    <tr>\n",
              "      <th>3</th>\n",
              "      <td>12215000</td>\n",
              "      <td>7500</td>\n",
              "      <td>4</td>\n",
              "      <td>2</td>\n",
              "      <td>2</td>\n",
              "      <td>1</td>\n",
              "      <td>0</td>\n",
              "      <td>1</td>\n",
              "      <td>0</td>\n",
              "      <td>1</td>\n",
              "      <td>3</td>\n",
              "      <td>1</td>\n",
              "      <td>2</td>\n",
              "    </tr>\n",
              "    <tr>\n",
              "      <th>4</th>\n",
              "      <td>11410000</td>\n",
              "      <td>7420</td>\n",
              "      <td>4</td>\n",
              "      <td>1</td>\n",
              "      <td>2</td>\n",
              "      <td>1</td>\n",
              "      <td>1</td>\n",
              "      <td>1</td>\n",
              "      <td>0</td>\n",
              "      <td>1</td>\n",
              "      <td>2</td>\n",
              "      <td>0</td>\n",
              "      <td>2</td>\n",
              "    </tr>\n",
              "  </tbody>\n",
              "</table>\n",
              "</div>\n",
              "      <button class=\"colab-df-convert\" onclick=\"convertToInteractive('df-ce7e2786-b37f-4f19-aee0-8a02085e744e')\"\n",
              "              title=\"Convert this dataframe to an interactive table.\"\n",
              "              style=\"display:none;\">\n",
              "        \n",
              "  <svg xmlns=\"http://www.w3.org/2000/svg\" height=\"24px\"viewBox=\"0 0 24 24\"\n",
              "       width=\"24px\">\n",
              "    <path d=\"M0 0h24v24H0V0z\" fill=\"none\"/>\n",
              "    <path d=\"M18.56 5.44l.94 2.06.94-2.06 2.06-.94-2.06-.94-.94-2.06-.94 2.06-2.06.94zm-11 1L8.5 8.5l.94-2.06 2.06-.94-2.06-.94L8.5 2.5l-.94 2.06-2.06.94zm10 10l.94 2.06.94-2.06 2.06-.94-2.06-.94-.94-2.06-.94 2.06-2.06.94z\"/><path d=\"M17.41 7.96l-1.37-1.37c-.4-.4-.92-.59-1.43-.59-.52 0-1.04.2-1.43.59L10.3 9.45l-7.72 7.72c-.78.78-.78 2.05 0 2.83L4 21.41c.39.39.9.59 1.41.59.51 0 1.02-.2 1.41-.59l7.78-7.78 2.81-2.81c.8-.78.8-2.07 0-2.86zM5.41 20L4 18.59l7.72-7.72 1.47 1.35L5.41 20z\"/>\n",
              "  </svg>\n",
              "      </button>\n",
              "      \n",
              "  <style>\n",
              "    .colab-df-container {\n",
              "      display:flex;\n",
              "      flex-wrap:wrap;\n",
              "      gap: 12px;\n",
              "    }\n",
              "\n",
              "    .colab-df-convert {\n",
              "      background-color: #E8F0FE;\n",
              "      border: none;\n",
              "      border-radius: 50%;\n",
              "      cursor: pointer;\n",
              "      display: none;\n",
              "      fill: #1967D2;\n",
              "      height: 32px;\n",
              "      padding: 0 0 0 0;\n",
              "      width: 32px;\n",
              "    }\n",
              "\n",
              "    .colab-df-convert:hover {\n",
              "      background-color: #E2EBFA;\n",
              "      box-shadow: 0px 1px 2px rgba(60, 64, 67, 0.3), 0px 1px 3px 1px rgba(60, 64, 67, 0.15);\n",
              "      fill: #174EA6;\n",
              "    }\n",
              "\n",
              "    [theme=dark] .colab-df-convert {\n",
              "      background-color: #3B4455;\n",
              "      fill: #D2E3FC;\n",
              "    }\n",
              "\n",
              "    [theme=dark] .colab-df-convert:hover {\n",
              "      background-color: #434B5C;\n",
              "      box-shadow: 0px 1px 3px 1px rgba(0, 0, 0, 0.15);\n",
              "      filter: drop-shadow(0px 1px 2px rgba(0, 0, 0, 0.3));\n",
              "      fill: #FFFFFF;\n",
              "    }\n",
              "  </style>\n",
              "\n",
              "      <script>\n",
              "        const buttonEl =\n",
              "          document.querySelector('#df-ce7e2786-b37f-4f19-aee0-8a02085e744e button.colab-df-convert');\n",
              "        buttonEl.style.display =\n",
              "          google.colab.kernel.accessAllowed ? 'block' : 'none';\n",
              "\n",
              "        async function convertToInteractive(key) {\n",
              "          const element = document.querySelector('#df-ce7e2786-b37f-4f19-aee0-8a02085e744e');\n",
              "          const dataTable =\n",
              "            await google.colab.kernel.invokeFunction('convertToInteractive',\n",
              "                                                     [key], {});\n",
              "          if (!dataTable) return;\n",
              "\n",
              "          const docLinkHtml = 'Like what you see? Visit the ' +\n",
              "            '<a target=\"_blank\" href=https://colab.research.google.com/notebooks/data_table.ipynb>data table notebook</a>'\n",
              "            + ' to learn more about interactive tables.';\n",
              "          element.innerHTML = '';\n",
              "          dataTable['output_type'] = 'display_data';\n",
              "          await google.colab.output.renderOutput(dataTable, element);\n",
              "          const docLink = document.createElement('div');\n",
              "          docLink.innerHTML = docLinkHtml;\n",
              "          element.appendChild(docLink);\n",
              "        }\n",
              "      </script>\n",
              "    </div>\n",
              "  </div>\n",
              "  "
            ]
          },
          "metadata": {},
          "execution_count": 11
        }
      ]
    },
    {
      "cell_type": "code",
      "source": [
        "X = housing.values[:, 1:12]\n",
        "Y = housing.values[:, 0]\n",
        "\n",
        "X_train, X_test, Y_train, Y_test = train_test_split(X, Y, test_size=0.20, random_state=7)\n",
        "\n",
        "sc_X = StandardScaler()\n",
        "X_train = sc_X.fit_transform(X_train)\n",
        "X_test = sc_X.transform(X_test)\n",
        "\n",
        "scaler = MinMaxScaler()\n",
        "X_train = scaler.fit_transform(X_train)\n",
        "X_test = scaler.transform(X_test)\n",
        "\n",
        "pca = PCA(n_components=7)\n",
        "X_train = pca.fit_transform(X_train)\n",
        "X_test = pca.transform(X_test)\n",
        "\n",
        "svr_lin = SVR(kernel='linear')\n",
        "svr_poly = SVR(kernel='poly')\n",
        "svr_rbf = SVR(kernel='rbf')\n",
        "svr_sig = SVR(kernel='sigmoid')\n",
        "\n",
        "y_lin = svr_lin.fit(X_train, Y_train)\n",
        "expected = Y_test\n",
        "predicted = y_lin.predict(X_test)\n",
        "\n",
        "print(metrics.mean_squared_error(expected, predicted))"
      ],
      "metadata": {
        "colab": {
          "base_uri": "https://localhost:8080/"
        },
        "id": "hVs1BFxLpaPE",
        "outputId": "47628da1-2d79-4471-9a80-f4c01c0de08c"
      },
      "execution_count": 32,
      "outputs": [
        {
          "output_type": "stream",
          "name": "stdout",
          "text": [
            "3377415007077.5063\n"
          ]
        }
      ]
    }
  ]
}