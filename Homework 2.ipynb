{
  "nbformat": 4,
  "nbformat_minor": 0,
  "metadata": {
    "colab": {
      "provenance": [],
      "authorship_tag": "ABX9TyPmF+KhzfJGtfxFYS/yk1+N",
      "include_colab_link": true
    },
    "kernelspec": {
      "name": "python3",
      "display_name": "Python 3"
    },
    "language_info": {
      "name": "python"
    }
  },
  "cells": [
    {
      "cell_type": "markdown",
      "metadata": {
        "id": "view-in-github",
        "colab_type": "text"
      },
      "source": [
        "<a href=\"https://colab.research.google.com/github/ahyatt7/IntroToML/blob/main/Homework%202.ipynb\" target=\"_parent\"><img src=\"https://colab.research.google.com/assets/colab-badge.svg\" alt=\"Open In Colab\"/></a>"
      ]
    },
    {
      "cell_type": "code",
      "execution_count": null,
      "metadata": {
        "id": "NWiuUsswVOij"
      },
      "outputs": [],
      "source": [
        "import numpy as np\n",
        "import matplotlib.pyplot as plt\n",
        "import pandas as pd\n",
        "from sklearn.preprocessing import Normalizer\n",
        "from sklearn.preprocessing import StandardScaler\n",
        "from sklearn.model_selection import train_test_split\n",
        "from sklearn.model_selection import KFold\n",
        "from sklearn.model_selection import cross_val_score\n",
        "from sklearn.linear_model import LogisticRegression\n",
        "from sklearn.metrics import confusion_matrix\n",
        "from sklearn.metrics import classification_report\n",
        "from sklearn import metrics\n",
        "import seaborn as sns"
      ]
    },
    {
      "cell_type": "code",
      "source": [
        "from google.colab import drive\n",
        "drive.mount('/content/gdrive')\n",
        "\n",
        "dataset = pd.read_csv('/content/gdrive/MyDrive/Spring 2023/Intro to ML/diabetes.csv')\n",
        "\n",
        "dataset.head()"
      ],
      "metadata": {
        "colab": {
          "base_uri": "https://localhost:8080/",
          "height": 223
        },
        "id": "LHUcc7pXVfJU",
        "outputId": "4d404dd9-1197-4a6d-dbcf-d9e4faaf7b8c"
      },
      "execution_count": null,
      "outputs": [
        {
          "output_type": "stream",
          "name": "stdout",
          "text": [
            "Drive already mounted at /content/gdrive; to attempt to forcibly remount, call drive.mount(\"/content/gdrive\", force_remount=True).\n"
          ]
        },
        {
          "output_type": "execute_result",
          "data": {
            "text/plain": [
              "   Pregnancies  Glucose  BloodPressure  SkinThickness  Insulin   BMI  \\\n",
              "0            6      148             72             35        0  33.6   \n",
              "1            1       85             66             29        0  26.6   \n",
              "2            8      183             64              0        0  23.3   \n",
              "3            1       89             66             23       94  28.1   \n",
              "4            0      137             40             35      168  43.1   \n",
              "\n",
              "   DiabetesPedigreeFunction  Age  Outcome  \n",
              "0                     0.627   50        1  \n",
              "1                     0.351   31        0  \n",
              "2                     0.672   32        1  \n",
              "3                     0.167   21        0  \n",
              "4                     2.288   33        1  "
            ],
            "text/html": [
              "\n",
              "  <div id=\"df-c64abb3a-557a-4063-87f0-f95c6a07cdd7\">\n",
              "    <div class=\"colab-df-container\">\n",
              "      <div>\n",
              "<style scoped>\n",
              "    .dataframe tbody tr th:only-of-type {\n",
              "        vertical-align: middle;\n",
              "    }\n",
              "\n",
              "    .dataframe tbody tr th {\n",
              "        vertical-align: top;\n",
              "    }\n",
              "\n",
              "    .dataframe thead th {\n",
              "        text-align: right;\n",
              "    }\n",
              "</style>\n",
              "<table border=\"1\" class=\"dataframe\">\n",
              "  <thead>\n",
              "    <tr style=\"text-align: right;\">\n",
              "      <th></th>\n",
              "      <th>Pregnancies</th>\n",
              "      <th>Glucose</th>\n",
              "      <th>BloodPressure</th>\n",
              "      <th>SkinThickness</th>\n",
              "      <th>Insulin</th>\n",
              "      <th>BMI</th>\n",
              "      <th>DiabetesPedigreeFunction</th>\n",
              "      <th>Age</th>\n",
              "      <th>Outcome</th>\n",
              "    </tr>\n",
              "  </thead>\n",
              "  <tbody>\n",
              "    <tr>\n",
              "      <th>0</th>\n",
              "      <td>6</td>\n",
              "      <td>148</td>\n",
              "      <td>72</td>\n",
              "      <td>35</td>\n",
              "      <td>0</td>\n",
              "      <td>33.6</td>\n",
              "      <td>0.627</td>\n",
              "      <td>50</td>\n",
              "      <td>1</td>\n",
              "    </tr>\n",
              "    <tr>\n",
              "      <th>1</th>\n",
              "      <td>1</td>\n",
              "      <td>85</td>\n",
              "      <td>66</td>\n",
              "      <td>29</td>\n",
              "      <td>0</td>\n",
              "      <td>26.6</td>\n",
              "      <td>0.351</td>\n",
              "      <td>31</td>\n",
              "      <td>0</td>\n",
              "    </tr>\n",
              "    <tr>\n",
              "      <th>2</th>\n",
              "      <td>8</td>\n",
              "      <td>183</td>\n",
              "      <td>64</td>\n",
              "      <td>0</td>\n",
              "      <td>0</td>\n",
              "      <td>23.3</td>\n",
              "      <td>0.672</td>\n",
              "      <td>32</td>\n",
              "      <td>1</td>\n",
              "    </tr>\n",
              "    <tr>\n",
              "      <th>3</th>\n",
              "      <td>1</td>\n",
              "      <td>89</td>\n",
              "      <td>66</td>\n",
              "      <td>23</td>\n",
              "      <td>94</td>\n",
              "      <td>28.1</td>\n",
              "      <td>0.167</td>\n",
              "      <td>21</td>\n",
              "      <td>0</td>\n",
              "    </tr>\n",
              "    <tr>\n",
              "      <th>4</th>\n",
              "      <td>0</td>\n",
              "      <td>137</td>\n",
              "      <td>40</td>\n",
              "      <td>35</td>\n",
              "      <td>168</td>\n",
              "      <td>43.1</td>\n",
              "      <td>2.288</td>\n",
              "      <td>33</td>\n",
              "      <td>1</td>\n",
              "    </tr>\n",
              "  </tbody>\n",
              "</table>\n",
              "</div>\n",
              "      <button class=\"colab-df-convert\" onclick=\"convertToInteractive('df-c64abb3a-557a-4063-87f0-f95c6a07cdd7')\"\n",
              "              title=\"Convert this dataframe to an interactive table.\"\n",
              "              style=\"display:none;\">\n",
              "        \n",
              "  <svg xmlns=\"http://www.w3.org/2000/svg\" height=\"24px\"viewBox=\"0 0 24 24\"\n",
              "       width=\"24px\">\n",
              "    <path d=\"M0 0h24v24H0V0z\" fill=\"none\"/>\n",
              "    <path d=\"M18.56 5.44l.94 2.06.94-2.06 2.06-.94-2.06-.94-.94-2.06-.94 2.06-2.06.94zm-11 1L8.5 8.5l.94-2.06 2.06-.94-2.06-.94L8.5 2.5l-.94 2.06-2.06.94zm10 10l.94 2.06.94-2.06 2.06-.94-2.06-.94-.94-2.06-.94 2.06-2.06.94z\"/><path d=\"M17.41 7.96l-1.37-1.37c-.4-.4-.92-.59-1.43-.59-.52 0-1.04.2-1.43.59L10.3 9.45l-7.72 7.72c-.78.78-.78 2.05 0 2.83L4 21.41c.39.39.9.59 1.41.59.51 0 1.02-.2 1.41-.59l7.78-7.78 2.81-2.81c.8-.78.8-2.07 0-2.86zM5.41 20L4 18.59l7.72-7.72 1.47 1.35L5.41 20z\"/>\n",
              "  </svg>\n",
              "      </button>\n",
              "      \n",
              "  <style>\n",
              "    .colab-df-container {\n",
              "      display:flex;\n",
              "      flex-wrap:wrap;\n",
              "      gap: 12px;\n",
              "    }\n",
              "\n",
              "    .colab-df-convert {\n",
              "      background-color: #E8F0FE;\n",
              "      border: none;\n",
              "      border-radius: 50%;\n",
              "      cursor: pointer;\n",
              "      display: none;\n",
              "      fill: #1967D2;\n",
              "      height: 32px;\n",
              "      padding: 0 0 0 0;\n",
              "      width: 32px;\n",
              "    }\n",
              "\n",
              "    .colab-df-convert:hover {\n",
              "      background-color: #E2EBFA;\n",
              "      box-shadow: 0px 1px 2px rgba(60, 64, 67, 0.3), 0px 1px 3px 1px rgba(60, 64, 67, 0.15);\n",
              "      fill: #174EA6;\n",
              "    }\n",
              "\n",
              "    [theme=dark] .colab-df-convert {\n",
              "      background-color: #3B4455;\n",
              "      fill: #D2E3FC;\n",
              "    }\n",
              "\n",
              "    [theme=dark] .colab-df-convert:hover {\n",
              "      background-color: #434B5C;\n",
              "      box-shadow: 0px 1px 3px 1px rgba(0, 0, 0, 0.15);\n",
              "      filter: drop-shadow(0px 1px 2px rgba(0, 0, 0, 0.3));\n",
              "      fill: #FFFFFF;\n",
              "    }\n",
              "  </style>\n",
              "\n",
              "      <script>\n",
              "        const buttonEl =\n",
              "          document.querySelector('#df-c64abb3a-557a-4063-87f0-f95c6a07cdd7 button.colab-df-convert');\n",
              "        buttonEl.style.display =\n",
              "          google.colab.kernel.accessAllowed ? 'block' : 'none';\n",
              "\n",
              "        async function convertToInteractive(key) {\n",
              "          const element = document.querySelector('#df-c64abb3a-557a-4063-87f0-f95c6a07cdd7');\n",
              "          const dataTable =\n",
              "            await google.colab.kernel.invokeFunction('convertToInteractive',\n",
              "                                                     [key], {});\n",
              "          if (!dataTable) return;\n",
              "\n",
              "          const docLinkHtml = 'Like what you see? Visit the ' +\n",
              "            '<a target=\"_blank\" href=https://colab.research.google.com/notebooks/data_table.ipynb>data table notebook</a>'\n",
              "            + ' to learn more about interactive tables.';\n",
              "          element.innerHTML = '';\n",
              "          dataTable['output_type'] = 'display_data';\n",
              "          await google.colab.output.renderOutput(dataTable, element);\n",
              "          const docLink = document.createElement('div');\n",
              "          docLink.innerHTML = docLinkHtml;\n",
              "          element.appendChild(docLink);\n",
              "        }\n",
              "      </script>\n",
              "    </div>\n",
              "  </div>\n",
              "  "
            ]
          },
          "metadata": {},
          "execution_count": 351
        }
      ]
    },
    {
      "cell_type": "markdown",
      "source": [
        "# **Problem 1**"
      ],
      "metadata": {
        "id": "1tRik9C7cZ4N"
      }
    },
    {
      "cell_type": "code",
      "source": [
        "X = dataset.iloc[:, :8].values\n",
        "Y = dataset.iloc[:, 8].values\n",
        "\n",
        "X_train, X_test, Y_train, Y_test = train_test_split(X, Y, test_size=0.20, \n",
        "                                                    random_state=0, shuffle=True)\n",
        "print(X_train.shape)\n",
        "\n",
        "sc_X = StandardScaler()\n",
        "X_train = sc_X.fit_transform(X_train)\n",
        "X_test = sc_X.transform(X_test)\n",
        "\n",
        "classifier = LogisticRegression(random_state=0)\n",
        "classifier.fit(X_train, Y_train)\n",
        "\n",
        "Y_pred = classifier.predict(X_test)\n",
        "\n",
        "accuracy = metrics.accuracy_score(Y_test, Y_pred)*100.0\n",
        "precision = metrics.precision_score(Y_test, Y_pred)*100.0\n",
        "recall = metrics.recall_score(Y_test, Y_pred)*100.0\n",
        "print(\"Accuracy: %.3f%%\" % accuracy)\n",
        "print(\"Precision: %.3f%%\" % precision)\n",
        "print(\"Recall: %.3f%%\" % recall)\n",
        "\n",
        "cnf_matrix = confusion_matrix(Y_test, Y_pred)\n",
        "\n",
        "class_names=[0,1] # name of classes\n",
        "fig, ax = plt.subplots()\n",
        "tick_marks = np.arange(len(class_names))\n",
        "plt.xticks(tick_marks, class_names)\n",
        "plt.yticks(tick_marks, class_names)\n",
        "# create heatmap\n",
        "sns.heatmap(pd.DataFrame(cnf_matrix), annot=True, cmap=\"YlGnBu\" ,fmt='g')\n",
        "ax.xaxis.set_label_position(\"top\")\n",
        "plt.tight_layout()\n",
        "plt.title('Confusion matrix', y=1.1)\n",
        "plt.ylabel('Actual label')\n",
        "plt.xlabel('Predicted label')"
      ],
      "metadata": {
        "colab": {
          "base_uri": "https://localhost:8080/",
          "height": 425
        },
        "id": "Sj8lIZXPWwK_",
        "outputId": "1fac6765-cd3a-481c-db78-f06ebdb0699c"
      },
      "execution_count": null,
      "outputs": [
        {
          "output_type": "stream",
          "name": "stdout",
          "text": [
            "(614, 8)\n",
            "Accuracy: 82.468%\n",
            "Precision: 76.316%\n",
            "Recall: 61.702%\n"
          ]
        },
        {
          "output_type": "execute_result",
          "data": {
            "text/plain": [
              "Text(0.5, 257.44, 'Predicted label')"
            ]
          },
          "metadata": {},
          "execution_count": 352
        },
        {
          "output_type": "display_data",
          "data": {
            "text/plain": [
              "<Figure size 432x288 with 2 Axes>"
            ],
            "image/png": "[encoded data removed]"
          },
          "metadata": {
            "needs_background": "light"
          }
        }
      ]
    },
    {
      "cell_type": "markdown",
      "source": [
        "# **Problem 2**"
      ],
      "metadata": {
        "id": "j6GhbIhoceU9"
      }
    },
    {
      "cell_type": "code",
      "source": [
        "kfold = KFold(n_splits = 5,random_state=0, shuffle = True)\n",
        "model = LogisticRegression(solver = 'liblinear')\n",
        "results_5folds = cross_val_score(model, X, Y, cv=kfold)\n",
        "print(\"Accuracy: %.3f%% (%.3f%%)\" % (results_5folds.mean()*100.0, \n",
        "                                     results_5folds.std()*100.0))\n",
        "\n",
        "kfold = KFold(n_splits = 10, random_state = 0, shuffle = True)\n",
        "model = LogisticRegression(solver = 'liblinear')\n",
        "results_10folds = cross_val_score(model, X, Y, cv=kfold)\n",
        "print(\"Accuracy: %.3f%% (%.3f%%)\" % (results_10folds.mean()*100.0, \n",
        "                                     results_10folds.std()*100.0))\n",
        "\n",
        "print(\"Percent difference between 5 k-folds and standard logistic regression: %.3f%%\"\n",
        " % ((results_5folds.mean()*100.0-accuracy)/accuracy))\n",
        "\n",
        "print(\"Percent difference between 10 k-folds and standard logistic regression: %.3f%%\"\n",
        " % ((results_10folds.mean()*100.0-accuracy)/accuracy))"
      ],
      "metadata": {
        "colab": {
          "base_uri": "https://localhost:8080/"
        },
        "id": "bvmNHOcEYl8B",
        "outputId": "04e4f8e0-74e8-4267-943d-6de5f2d79165"
      },
      "execution_count": null,
      "outputs": [
        {
          "output_type": "stream",
          "name": "stdout",
          "text": [
            "Accuracy: 76.555% (3.185%)\n",
            "Accuracy: 76.818% (3.744%)\n",
            "Percent difference between 5 k-folds and standard logistic regression: -0.072%\n",
            "Percent difference between 10 k-folds and standard logistic regression: -0.069%\n"
          ]
        }
      ]
    },
    {
      "cell_type": "markdown",
      "source": [
        "# **Problem 3 Part 1**"
      ],
      "metadata": {
        "id": "6m9yR1P57BCv"
      }
    },
    {
      "cell_type": "code",
      "source": [
        "from sklearn.datasets import load_breast_cancer\n",
        "breast = load_breast_cancer()\n",
        "X = breast.data\n",
        "Y = breast.target\n",
        "\n",
        "breast_input = pd.DataFrame(X)\n",
        "breast_input.head()\n",
        "\n",
        "X_train, X_test, Y_train, Y_test = train_test_split(X, Y, test_size=0.20)\n",
        "\n",
        "sc_X = StandardScaler()\n",
        "X_train = sc_X.fit_transform(X_train)\n",
        "X_test = sc_X.transform(X_test)\n",
        "\n",
        "classifier = LogisticRegression()\n",
        "classifier.fit(X_train, Y_train)\n",
        "\n",
        "Y_pred = classifier.predict(X_test)\n",
        "\n",
        "accuracy = metrics.accuracy_score(Y_test, Y_pred)*100.0\n",
        "precision = metrics.precision_score(Y_test, Y_pred)*100.0\n",
        "recall = metrics.recall_score(Y_test, Y_pred)*100.0\n",
        "print(\"Accuracy: %.3f%%\" % accuracy)\n",
        "print(\"Precision: %.3f%%\" % precision)\n",
        "print(\"Recall: %.3f%%\" % recall)\n",
        "\n",
        "cnf_matrix = confusion_matrix(Y_test, Y_pred)\n",
        "\n",
        "class_names=[0,1] # name of classes\n",
        "fig, ax = plt.subplots()\n",
        "tick_marks = np.arange(len(class_names))\n",
        "plt.xticks(tick_marks, class_names)\n",
        "plt.yticks(tick_marks, class_names)\n",
        "# create heatmap\n",
        "sns.heatmap(pd.DataFrame(cnf_matrix), annot=True, cmap=\"YlGnBu\" ,fmt='g')\n",
        "ax.xaxis.set_label_position(\"top\")\n",
        "plt.tight_layout()\n",
        "plt.title('Confusion matrix', y=1.1)\n",
        "plt.ylabel('Actual label')\n",
        "plt.xlabel('Predicted label')"
      ],
      "metadata": {
        "colab": {
          "base_uri": "https://localhost:8080/",
          "height": 407
        },
        "id": "PzRgdBDi7FEQ",
        "outputId": "0c131220-d06a-43ce-a5f3-38b5c56d3bcf"
      },
      "execution_count": null,
      "outputs": [
        {
          "output_type": "stream",
          "name": "stdout",
          "text": [
            "Accuracy: 99.123%\n",
            "Precision: 100.000%\n",
            "Recall: 98.413%\n"
          ]
        },
        {
          "output_type": "execute_result",
          "data": {
            "text/plain": [
              "Text(0.5, 257.44, 'Predicted label')"
            ]
          },
          "metadata": {},
          "execution_count": 354
        },
        {
          "output_type": "display_data",
          "data": {
            "text/plain": [
              "<Figure size 432x288 with 2 Axes>"
            ],
            "image/png": "[encoded data removed]"
          },
          "metadata": {
            "needs_background": "light"
          }
        }
      ]
    },
    {
      "cell_type": "markdown",
      "source": [
        "# **Problem 3 Part 2**"
      ],
      "metadata": {
        "id": "upq7F9XSBB4R"
      }
    },
    {
      "cell_type": "code",
      "source": [
        "c = 0.1\n",
        "clf = LogisticRegression(penalty = 'l1', C=c, solver = 'liblinear')\n",
        "clf.fit(X_train, Y_train)\n",
        "print(\"Accuracy: \", clf.score(X_test, Y_test))"
      ],
      "metadata": {
        "colab": {
          "base_uri": "https://localhost:8080/"
        },
        "id": "WqBrwx3DBE_m",
        "outputId": "feb7422d-cb42-494f-f7a4-86aed2069bba"
      },
      "execution_count": null,
      "outputs": [
        {
          "output_type": "stream",
          "name": "stdout",
          "text": [
            "Accuracy:  0.9736842105263158\n"
          ]
        }
      ]
    },
    {
      "cell_type": "markdown",
      "source": [
        "# **Problem 4 Part 1**"
      ],
      "metadata": {
        "id": "MGhzwCIQGJMT"
      }
    },
    {
      "cell_type": "code",
      "source": [
        "kfold = KFold(n_splits = 5,random_state=0, shuffle = True)\n",
        "model = LogisticRegression(solver = 'liblinear')\n",
        "results_5folds = cross_val_score(model, X, Y, cv=kfold)\n",
        "print(\"Accuracy: %.3f%% (%.3f%%)\" % (results_5folds.mean()*100.0, \n",
        "                                     results_5folds.std()*100.0))\n",
        "\n",
        "kfold = KFold(n_splits = 10, random_state = 0, shuffle = True)\n",
        "model = LogisticRegression(solver = 'liblinear')\n",
        "results_10folds = cross_val_score(model, X, Y, cv=kfold)\n",
        "print(\"Accuracy: %.3f%% (%.3f%%)\" % (results_10folds.mean()*100.0, \n",
        "                                     results_10folds.std()*100.0))\n",
        "\n",
        "print(\"Percent difference between 5 k-folds and standard logistic regression: %.3f%%\"\n",
        " % ((results_5folds.mean()*100.0-accuracy)/accuracy))\n",
        "\n",
        "print(\"Percent difference between 10 k-folds and standard logistic regression: %.3f%%\"\n",
        " % ((results_10folds.mean()*100.0-accuracy)/accuracy))"
      ],
      "metadata": {
        "colab": {
          "base_uri": "https://localhost:8080/"
        },
        "id": "u25BR7lMGMZp",
        "outputId": "d3d14615-a7e4-4b15-bcb7-7dfae6848580"
      },
      "execution_count": null,
      "outputs": [
        {
          "output_type": "stream",
          "name": "stdout",
          "text": [
            "Accuracy: 95.434% (2.737%)\n",
            "Accuracy: 95.432% (3.858%)\n",
            "Percent difference between 5 k-folds and standard logistic regression: -0.037%\n",
            "Percent difference between 10 k-folds and standard logistic regression: -0.037%\n"
          ]
        }
      ]
    },
    {
      "cell_type": "markdown",
      "source": [
        "# **Problem 4 Part 2**"
      ],
      "metadata": {
        "id": "fBnb0TWOGi0m"
      }
    },
    {
      "cell_type": "code",
      "source": [
        "kfold = KFold(n_splits = 5,random_state=0, shuffle = True)\n",
        "model = LogisticRegression(penalty = 'l1', C=c, solver = 'liblinear', \n",
        "                          max_iter=1000)\n",
        "results_5folds = cross_val_score(model, X, Y, cv=kfold)\n",
        "print(\"Accuracy: %.3f%% (%.3f%%)\" % (results_5folds.mean()*100.0, \n",
        "                                     results_5folds.std()*100.0))\n",
        "\n",
        "kfold = KFold(n_splits = 10, random_state = 0, shuffle = True)\n",
        "model = LogisticRegression(penalty = 'l1', C=c, solver = 'liblinear',\n",
        "                           max_iter=1000)\n",
        "results_10folds = cross_val_score(model, X, Y, cv=kfold)\n",
        "print(\"Accuracy: %.3f%% (%.3f%%)\" % (results_10folds.mean()*100.0, \n",
        "                                     results_10folds.std()*100.0))"
      ],
      "metadata": {
        "colab": {
          "base_uri": "https://localhost:8080/"
        },
        "id": "T8de6AefGm-s",
        "outputId": "f643bd26-183d-4a40-9d5e-54526c88b3ab"
      },
      "execution_count": null,
      "outputs": [
        {
          "output_type": "stream",
          "name": "stdout",
          "text": [
            "Accuracy: 92.972% (3.232%)\n",
            "Accuracy: 93.669% (3.949%)\n"
          ]
        }
      ]
    }
  ]
}